{
  "nbformat": 4,
  "nbformat_minor": 0,
  "metadata": {
    "colab": {
      "provenance": []
    },
    "kernelspec": {
      "name": "python3",
      "display_name": "Python 3"
    },
    "language_info": {
      "name": "python"
    }
  },
  "cells": [
    {
      "cell_type": "code",
      "execution_count": null,
      "metadata": {
        "id": "4rwhr01rv3E_"
      },
      "outputs": [],
      "source": []
    },
    {
      "cell_type": "markdown",
      "source": [
        "NUMPY ASSIGNMENT"
      ],
      "metadata": {
        "id": "VEhgv2Xrv35P"
      }
    },
    {
      "cell_type": "code",
      "source": [
        "\n"
      ],
      "metadata": {
        "id": "-hoAKUHCv9yt"
      },
      "execution_count": null,
      "outputs": []
    },
    {
      "cell_type": "markdown",
      "source": [
        "**QUES 1**: Explain the purpose and advantages of NumPy in scientific computing and data analysis. How does it enhance Python's capabilities for numerical operations."
      ],
      "metadata": {
        "id": "U_h6I5UwwA3y"
      }
    },
    {
      "cell_type": "markdown",
      "source": [
        "NumPy, short for Numerical Python, is a fundamental library for scientific computing in Python. It provides support for large, multi-dimensional arrays and matrices, along with a collection of mathematical functions to operate on these data structures.\n",
        "\n",
        "Purpose of NumPy\n",
        "\n",
        "1. Efficient Array Handling: NumPy introduces the ndarray object, a powerful n-dimensional array that allows for efficient storage and manipulation of numerical data.\n",
        "\n",
        "2. Mathematical Functions: It offers a wide range of mathematical functions to perform operations on arrays, such as linear algebra, statistical analysis, and Fourier transforms.\n",
        "\n",
        "3. Integration with Other Libraries: NumPy serves as the foundation for many other scientific libraries in Python, such as SciPy, Pandas, and Matplotlib, enabling seamless integration.\n",
        "\n",
        "Advantages of NumPy.\n",
        "\n",
        "1. Performance: NumPy arrays are more efficient than Python lists. They are implemented in C, allowing for fast execution of operations. Vectorized operations minimize the need for loops, speeding up computations significantly.\n",
        "\n",
        "2. Convenient Syntax: The syntax for manipulating arrays is straightforward and intuitive. This makes it easy to write and read code, especially for mathematical and statistical operations.\n",
        "\n",
        "3. Broadcasting: NumPy supports broadcasting, which allows for arithmetic operations between arrays of different shapes. This feature simplifies code and enhances performance by eliminating the need for manual expansion of arrays.\n",
        "\n",
        "Enhancements to Python's Capabilities.\n",
        "\n",
        "1. Numerical Operations: NumPy allows for high-level operations that are optimized for performance. For example, matrix multiplications, element-wise operations, and more can be executed with simple, readable syntax.\n",
        "\n",
        "2. Scientific Computing: By providing support for complex numerical tasks, NumPy enables Python to be a competitive choice for scientific computing alongside languages like MATLAB and R.\n",
        "\n",
        "3. Data Analysis: With its powerful array operations, NumPy serves as the backbone for data manipulation in libraries like Pandas, making it easier to clean, transform, and analyze large datasets."
      ],
      "metadata": {
        "id": "PpjNbaFowvrm"
      }
    },
    {
      "cell_type": "markdown",
      "source": [
        "**QUES 2** : Compare and contrast np.mean() and np.average() functions in NumPy. When would you use one over the other?"
      ],
      "metadata": {
        "id": "wBaXduRixdz5"
      }
    },
    {
      "cell_type": "markdown",
      "source": [
        "In NumPy, both np.mean() and np.average() are used to compute averages, but they have some differences in functionality and use cases. Here’s a comparison:\n",
        "\n",
        "np.mean()\n",
        "\n",
        "*Purpose: Computes the arithmetic mean of the values in an array.\n",
        "\n",
        "*Syntax: np.mean(a, axis=None, dtype=None, out=None, keepdims=False)\n",
        "\n",
        "*Parameters:\n",
        " -a: Input array.\n",
        "\n",
        " -axis: Specifies the axis along which to compute the mean. If None, it computes the mean of the flattened array.\n",
        "\n",
        " -dtype: Data type to use in the computation.\n",
        "\n",
        " -out: An alternative output array to place the result.\n",
        "\n",
        " -keepdims: If True, the reduced axes are left in the result as dimensions with size one.\n",
        "\n",
        "*Use Case: Use np.mean() when you simply want to find the mean value of an array or along a specific axis without needing weights.\n",
        "\n",
        "\n",
        "np.average()\n",
        "\n",
        "*Purpose: Computes the weighted average of an array, with the option to specify\n",
        " weights.\n",
        "\n",
        "*Syntax: np.average(a, axis=None, weights=None, returned=False)\n",
        "\n",
        "*Parameters:\n",
        "\n",
        "-a: Input array.\n",
        "\n",
        "-axis: Similar to np.mean(), specifies the axis along which to compute the\n",
        " average.\n",
        "\n",
        "-weights: An array of weights associated with each element. If not specified,  \n",
        " it defaults to equal weights.\n",
        "\n",
        "-returned: If True, it returns a tuple of the average and the sum of the weights.\n",
        "\n",
        "When to Use Each\n",
        "\n",
        "**Use np.mean() when:\n",
        "\n",
        "You want a straightforward average of all elements or along a specific axis.\n",
        "\n",
        "You do not require weights in your computation.\n",
        "\n",
        "**Use np.average() when:\n",
        "\n",
        "You need to account for weights that affect the average calculation.\n",
        "\n",
        "\n",
        "You want to get both the weighted average and the sum of the weights (by setting returned=True).\n"
      ],
      "metadata": {
        "id": "wUql6Vo0xnuP"
      }
    },
    {
      "cell_type": "markdown",
      "source": [
        "**QUES 3**: Describe the methods for reversing a NumPy array along different axes. Provide examples for 1D and 2D arrays"
      ],
      "metadata": {
        "id": "nQgBcJNuAJ82"
      }
    },
    {
      "cell_type": "markdown",
      "source": [
        "Reversing a NumPy array can be accomplished using various methods, depending on the desired axis. Here’s how to do it for both 1D and 2D arrays."
      ],
      "metadata": {
        "id": "iWVxWUhnAQ1t"
      }
    },
    {
      "cell_type": "code",
      "source": [
        "#Reversing a 1D Array\n",
        "\n",
        "import numpy as np\n",
        "\n",
        "# Create a 1D array\n",
        "arr_1d = np.array([10, 20, 30, 40, 50])\n",
        "\n",
        "# Reverse the array using slicing\n",
        "reversed_1d = arr_1d[::-1]\n",
        "\n",
        "print(\"Original 1D array:\", arr_1d)\n",
        "print(\"Reversed 1D array:\", reversed_1d)\n"
      ],
      "metadata": {
        "colab": {
          "base_uri": "https://localhost:8080/"
        },
        "id": "u0EA3Dd7AfRq",
        "outputId": "7117ecc4-22ea-40c4-8be4-5a9fca861ddc"
      },
      "execution_count": null,
      "outputs": [
        {
          "output_type": "stream",
          "name": "stdout",
          "text": [
            "Original 1D array: [10 20 30 40 50]\n",
            "Reversed 1D array: [50 40 30 20 10]\n"
          ]
        }
      ]
    },
    {
      "cell_type": "markdown",
      "source": [
        "Reversing a 2D Array\n",
        "For a 2D array, you can reverse it along different axes using slicing. Here are examples for both axes:\n",
        "\n",
        "Reversing Along the Rows (Axis 0): This will reverse the order of the rows."
      ],
      "metadata": {
        "id": "G2lywaYoA9hG"
      }
    },
    {
      "cell_type": "code",
      "source": [
        "# Create a 2D array\n",
        "arr_2d = np.array([[10, 20, 30],\n",
        "                   [40, 50, 60],\n",
        "                   [70, 80, 90]])\n",
        "\n",
        "# Reverse the array along the rows (axis 0)\n",
        "reversed_rows = arr_2d[::-1]\n",
        "\n",
        "print(\"Original 2D array:\\n\", arr_2d)\n",
        "print(\"Reversed along rows (axis 0):\\n\", reversed_rows)\n"
      ],
      "metadata": {
        "colab": {
          "base_uri": "https://localhost:8080/"
        },
        "id": "tZ_IFP8NA9F9",
        "outputId": "80998ae8-b8a1-4bed-b943-69d8e3155996"
      },
      "execution_count": null,
      "outputs": [
        {
          "output_type": "stream",
          "name": "stdout",
          "text": [
            "Original 2D array:\n",
            " [[10 20 30]\n",
            " [40 50 60]\n",
            " [70 80 90]]\n",
            "Reversed along rows (axis 0):\n",
            " [[70 80 90]\n",
            " [40 50 60]\n",
            " [10 20 30]]\n"
          ]
        }
      ]
    },
    {
      "cell_type": "markdown",
      "source": [
        "**QUES 4**:  How can you determine the data type of elements in a NumPy array? Discuss the importance of data types in memory management and performance.\n",
        "\n",
        "\n",
        "In NumPy, you can determine the data type of the elements in an array using the .dtype attribute. This attribute returns a numpy.dtype object, which describes the type of elements in the array.\n",
        "\n",
        "Importance of Data Types\n",
        "\n",
        "Memory Management:\n",
        "\n",
        "Size -  Optimization: Different data types have different memory requirements. For instance, an int32 takes 4 bytes, while an int64 takes 8 bytes. Choosing the right type can lead to significant memory savings, especially with large datasets.\n",
        "\n",
        "Storage Efficiency: Using smaller data types (e.g., float32 instead of float64) for data that doesn't require high precision can help manage memory usage effectively.\n",
        "Performance:\n",
        "\n",
        "Speed of Operations: Operations on smaller data types generally execute faster because they require less memory bandwidth. For example, calculations with float32 can be faster than with float64 due to reduced data size.\n",
        "\n",
        "Vectorization: NumPy's ability to perform vectorized operations (performing operations on whole arrays at once) is influenced by data types. Ensuring the appropriate data type can improve the efficiency of these operations.\n",
        "\n",
        "Type Safety:\n",
        "\n",
        "Ensuring that data is stored in the correct format helps prevent errors in computations. For example, mixing integer and floating-point types can lead to unintentional data type promotions, affecting performance and results.\n",
        "\n",
        "Interoperability:\n",
        "\n",
        "When interfacing with other libraries or systems (like databases, APIs, or machine learning frameworks), having the right data type can facilitate smooth data exchange and avoid conversion issues."
      ],
      "metadata": {
        "id": "jvhDvSmQmTZe"
      }
    },
    {
      "cell_type": "code",
      "source": [
        "import numpy as np\n",
        "\n",
        "# Create a NumPy array\n",
        "arr = np.array([10, 20, 30, 40])\n",
        "\n",
        "# Determine the data type\n",
        "data_type = arr.dtype\n",
        "\n",
        "print(\"Array:\", arr)\n",
        "print(\"Data type:\", data_type)\n"
      ],
      "metadata": {
        "colab": {
          "base_uri": "https://localhost:8080/"
        },
        "id": "q1PGOx2yqkP_",
        "outputId": "26cd8ad2-3af9-42a9-cb94-98a47d5c4eca"
      },
      "execution_count": null,
      "outputs": [
        {
          "output_type": "stream",
          "name": "stdout",
          "text": [
            "Array: [10 20 30 40]\n",
            "Data type: int64\n"
          ]
        }
      ]
    },
    {
      "cell_type": "markdown",
      "source": [
        "**QUES 5** :  Define ndarrays in NumPy and explain their key features. How do they differ from standard Python lists.\n",
        "\n",
        "\n",
        "In NumPy, ndarrays (short for \"n-dimensional arrays\") are the core data structure used for handling large datasets. They are designed to be more efficient and versatile than standard Python lists, especially for numerical computations and scientific computing.\n",
        "\n",
        "Key Features of ndarrays--\n",
        "\n",
        "Homogeneous Data:-\n",
        "\n",
        "All elements in an ndarray are of the same data type (e.g., all integers, floats, etc.), which allows for optimized memory usage and faster operations.\n",
        "\n",
        "\n",
        "Multi-dimensional:-\n",
        "\n",
        "Ndarrays can be one-dimensional, two-dimensional, or multi-dimensional (n-dimensional), allowing for the representation of scalars, vectors, matrices, and higher-dimensional data.\n",
        "\n",
        "\n",
        "Efficient Memory Layout:-\n",
        "\n",
        "Ndarrays are stored in contiguous blocks of memory, leading to better cache performance and faster access times compared to Python lists, which can store objects scattered throughout memory.\n",
        "\n",
        "Vectorized Operations:-\n",
        "\n",
        "NumPy supports element-wise operations and mathematical functions that can be applied directly to ndarrays without the need for explicit loops, making code more concise and efficient\n"
      ],
      "metadata": {
        "id": "fBIETuYXqxJ4"
      }
    },
    {
      "cell_type": "markdown",
      "source": [
        "Differences from Standard Python Lists\n",
        "\n",
        "Data Type Homogeneity:\n",
        "\n",
        "Ndarrays: All elements must be of the same data type.\n",
        "\n",
        "Python Lists: Can hold elements of different data types (e.g., integers, strings, objects).\n",
        "\n",
        "Performance:\n",
        "\n",
        "Ndarrays: Offer better performance for numerical operations due to optimized storage and execution.\n",
        "\n",
        "Python Lists: Generally slower for numerical operations since they require iteration and type-checking.\n",
        "\n",
        "Memory Efficiency:\n",
        "\n",
        "Ndarrays: More memory-efficient because of contiguous storage and the fixed data type.\n",
        "\n",
        "Python Lists: Use more memory because they store references to objects and have overhead for each element.\n",
        "\n",
        "\n",
        "Multi-dimensional Support:\n",
        "\n",
        "Ndarrays: Naturally support multi-dimensional structures (2D, 3D, etc.).\n",
        "\n",
        "Python Lists: Can be nested to create multi-dimensional structures, but this is less efficient and more cumbersome."
      ],
      "metadata": {
        "id": "zWNB5pthsc1O"
      }
    },
    {
      "cell_type": "markdown",
      "source": [
        "**QUES 6**. Analyze the performance benefits of NumPy arrays over Python lists for large-scale numerical operations.\n",
        "\n",
        "\n",
        "NumPy arrays offer several performance benefits over standard Python lists, particularly for large-scale numerical operations.\n",
        "\n",
        "Memory Efficiency\n",
        "\n",
        "Speed of Operations\n",
        "\n",
        "Built-in Functions and Broadcasting\n",
        "\n",
        "Less Overhead in Execution\n",
        "\n",
        "Parallel Processing Capabilities\n",
        "\n",
        "Handling Large Datasets\n",
        "\n",
        " Memory Efficiency\n",
        "\n",
        "Contiguous Memory Allocation: NumPy arrays are stored in contiguous blocks of memory. This allows for more efficient use of cache memory and reduces overhead, while Python lists store references to objects that can be scattered throughout memory, leading to higher memory usage.\n",
        "\n",
        "Fixed Data Types: NumPy arrays require all elements to be of the same data type, allowing for optimized storage. In contrast, Python lists can hold objects of varying types, which incurs additional overhead."
      ],
      "metadata": {
        "id": "0a76Y5AbWvPT"
      }
    },
    {
      "cell_type": "markdown",
      "source": [
        " Speed of Operations\n",
        "\n",
        "Vectorized Operations: NumPy is designed to perform operations on entire arrays at once (vectorization) using optimized C and Fortran libraries. This leads to substantial performance improvements, especially for operations involving large datasets.\n",
        "\n",
        "Built-in Functions and Broadcasting\n",
        "\n",
        "Rich Library of Functions: NumPy provides a vast array of built-in functions for mathematical operations, linear algebra, statistical analysis, etc., which are optimized for performance.\n",
        "\n",
        "Broadcasting: NumPy allows for operations between arrays of different shapes through broadcasting, enabling complex operations without the need for explicit replication of data. This saves both time and memory.\n",
        "\n",
        "Less Overhead in Execution\n",
        "\n",
        "Reduced Function Call Overhead: Operations on NumPy arrays involve fewer function calls compared to equivalent operations on Python lists, as many NumPy operations are implemented in low-level languages like C. This contributes to faster execution times."
      ],
      "metadata": {
        "id": "yFG7nBBUZBq_"
      }
    },
    {
      "cell_type": "markdown",
      "source": [
        "**QUES 7**: Compare vstack() and hstack() functions in NumPy. Provide examples demonstrating their usage and output."
      ],
      "metadata": {
        "id": "hKWllRGMs9sD"
      }
    },
    {
      "cell_type": "markdown",
      "source": [
        "\n",
        "In NumPy, vstack() and hstack() are functions used to stack arrays vertically and horizontally, respectively.\n",
        "They are helpful for combining arrays along specific axes.\n",
        "\n",
        "np.vstack()\n",
        "\n",
        "Purpose: Stacks arrays in sequence vertically (row-wise).\n",
        "\n",
        "Input: The arrays must have the same number of columns."
      ],
      "metadata": {
        "id": "GMEUBN07vcrC"
      }
    },
    {
      "cell_type": "code",
      "source": [
        "import numpy as np\n",
        "\n",
        "# Create two 2D arrays\n",
        "array1 = np.array([[1, 2, 3],\n",
        "                   [4, 5, 6]])\n",
        "\n",
        "array2 = np.array([[7, 8, 9],\n",
        "                   [10, 11, 12]])\n",
        "\n",
        "# Stack arrays vertically\n",
        "vstack_result = np.vstack((array1, array2))\n",
        "\n",
        "print(\"Array 1:\\n\", array1)\n",
        "print(\"Array 2:\\n\", array2)\n",
        "print(\"Result of vstack:\\n\", vstack_result)\n"
      ],
      "metadata": {
        "colab": {
          "base_uri": "https://localhost:8080/"
        },
        "id": "Qqn_QcK2wDMT",
        "outputId": "0307f9a5-be04-48b6-ed7f-71a39075cf37"
      },
      "execution_count": null,
      "outputs": [
        {
          "output_type": "stream",
          "name": "stdout",
          "text": [
            "Array 1:\n",
            " [[1 2 3]\n",
            " [4 5 6]]\n",
            "Array 2:\n",
            " [[ 7  8  9]\n",
            " [10 11 12]]\n",
            "Result of vstack:\n",
            " [[ 1  2  3]\n",
            " [ 4  5  6]\n",
            " [ 7  8  9]\n",
            " [10 11 12]]\n"
          ]
        }
      ]
    },
    {
      "cell_type": "markdown",
      "source": [
        "np.hstack()\n",
        "\n",
        "Purpose: Stacks arrays in sequence horizontally (column-wise).\n",
        "\n",
        "Input: The arrays must have the same number of rows."
      ],
      "metadata": {
        "id": "c0UvTfXLAswc"
      }
    },
    {
      "cell_type": "code",
      "source": [
        "# Stack arrays horizontally\n",
        "hstack_result = np.hstack((array1, array2))\n",
        "\n",
        "print(\"Result of hstack:\\n\", hstack_result)\n"
      ],
      "metadata": {
        "colab": {
          "base_uri": "https://localhost:8080/"
        },
        "id": "CUY16I2gwO3W",
        "outputId": "d50f52ae-2867-443d-acd7-93ab63f99028"
      },
      "execution_count": null,
      "outputs": [
        {
          "output_type": "stream",
          "name": "stdout",
          "text": [
            "Result of hstack:\n",
            " [[ 1  2  3  7  8  9]\n",
            " [ 4  5  6 10 11 12]]\n"
          ]
        }
      ]
    },
    {
      "cell_type": "markdown",
      "source": [
        "**QUES 8** -Explain the differences between fliplr() and flipud() methods in NumPy, including their effects on various array dimensions."
      ],
      "metadata": {
        "id": "ZRbIYIFnwWSt"
      }
    },
    {
      "cell_type": "markdown",
      "source": [
        "\n",
        "In NumPy, fliplr() and flipud() are methods used to flip arrays in specific directions.\n",
        " Here’s a detailed comparison of the two methods:\n",
        "\n",
        "np.fliplr()\n",
        "\n",
        "Purpose: Flips an array left to right (horizontally).\n",
        "\n",
        "Effect: For a 2D array, it reverses the order of columns."
      ],
      "metadata": {
        "id": "vkWWlgCIQ7CW"
      }
    },
    {
      "cell_type": "markdown",
      "source": [
        "np.flipud()\n",
        "\n",
        "Purpose: Flips an array upside down (vertically).\n",
        "\n",
        "Effect: For a 2D array, it reverses the order of rows."
      ],
      "metadata": {
        "id": "g5niHvByRFhk"
      }
    },
    {
      "cell_type": "markdown",
      "source": [
        "Differences Between fliplr() and flipud()\n",
        "\n",
        "Direction of Flip:\n",
        "\n",
        "fliplr(): Flips the array horizontally (left to right).\n",
        "\n",
        "flipud(): Flips the array vertically (upside down).\n",
        "\n",
        "\n",
        "Effect on Dimensions:\n",
        "\n",
        "2D Arrays: Both methods are most commonly used with 2D arrays, where:\n",
        "\n",
        "fliplr() changes the order of columns.\n",
        "\n",
        "flipud() changes the order of rows.\n"
      ],
      "metadata": {
        "id": "UgvHqJGvRKDE"
      }
    },
    {
      "cell_type": "code",
      "source": [
        "import numpy as np\n",
        "\n",
        "# Create a 2D array\n",
        "array_2d = np.array([[12, 52, 83],\n",
        "                     [14, 58, 65],\n",
        "                     [17, 84, 94]])\n",
        "\n",
        "# Flip the array left to right\n",
        "flipped_lr = np.fliplr(array_2d)\n",
        "\n",
        "print(\"Original Array:\\n\", array_2d)\n",
        "print(\"Flipped Left to Right:\\n\", flipped_lr)\n"
      ],
      "metadata": {
        "colab": {
          "base_uri": "https://localhost:8080/"
        },
        "id": "UOr-U7vyRYM0",
        "outputId": "4e81777c-d957-4a28-ab7e-46fb47a61e5d"
      },
      "execution_count": null,
      "outputs": [
        {
          "output_type": "stream",
          "name": "stdout",
          "text": [
            "Original Array:\n",
            " [[12 52 83]\n",
            " [14 58 65]\n",
            " [17 84 94]]\n",
            "Flipped Left to Right:\n",
            " [[83 52 12]\n",
            " [65 58 14]\n",
            " [94 84 17]]\n"
          ]
        }
      ]
    },
    {
      "cell_type": "code",
      "source": [
        "# Flip the array upside down\n",
        "flipped_ud = np.flipud(array_2d)\n",
        "\n",
        "print(\"Flipped Upside Down:\\n\", flipped_ud)\n"
      ],
      "metadata": {
        "colab": {
          "base_uri": "https://localhost:8080/"
        },
        "id": "eyOnj_iMv_Xq",
        "outputId": "79be64c7-f150-480c-d75c-64dc60ae9162"
      },
      "execution_count": null,
      "outputs": [
        {
          "output_type": "stream",
          "name": "stdout",
          "text": [
            "Flipped Upside Down:\n",
            " [[17 84 94]\n",
            " [14 58 65]\n",
            " [12 52 83]]\n"
          ]
        }
      ]
    },
    {
      "cell_type": "markdown",
      "source": [
        "**QUES** 9:. Discuss the functionality of the array_split() method in NumPy. How does it handle uneven splits.\n",
        "\n",
        "The array_split() method in NumPy is used to divide an array into multiple sub-arrays. It offers more flexibility than split() by allowing the array to be split into uneven parts.\n",
        "\n",
        "Functionality of array_split()\n",
        "\n",
        "Basic Syntax\n",
        "\n",
        "ary: The input array to be split.\n",
        "\n",
        "indices_or_sections: This can be an integer (number of splits) or an array of indices indicating where to split the array.\n",
        "\n",
        "axis: The axis along which to split the array (default is 0 for vertical splits).\n",
        "\n",
        "Key Features\n",
        "\n",
        "Uneven Splits: Unlike the split() method, which requires equal-sized splits, array_split() can handle situations where the number of elements is not perfectly divisible by the number of splits requested. In this case, some sub-arrays will have one more element than others.\n",
        "\n",
        "Returns a List: The function returns a list of sub-arrays.\n",
        "\n",
        "Handles Multi-dimensional Arrays: You can specify the axis along which to split, making it versatile for multi-dimensional arrays."
      ],
      "metadata": {
        "id": "rCjjGBhnR3Jg"
      }
    },
    {
      "cell_type": "markdown",
      "source": [
        "**QUES 10**. Explain the concepts of vectorization and broadcasting in NumPy. How do they contribute to efficient array operations?\n",
        "\n",
        "Vectorization\n",
        "\n",
        " Vectorization refers to the process of applying operations on entire arrays rather than using explicit loops to perform operations element by element. In NumPy, vectorized operations are implemented using optimized C code, making them much faster than equivalent Python loops.\n",
        "\n",
        "Benefits:\n",
        "\n",
        "Performance: Vectorized operations leverage low-level optimizations and are generally much faster than Python loops. This is particularly important when working with large datasets.\n",
        "\n",
        "Simplicity: Code becomes cleaner and more readable, as operations can be expressed in a concise manner without explicit iteration.\n"
      ],
      "metadata": {
        "id": "tdwXs-X9VlPo"
      }
    },
    {
      "cell_type": "markdown",
      "source": [
        "Broadcasting\n",
        "\n",
        "Broadcasting is a technique that allows NumPy to perform arithmetic operations on arrays of different shapes. It enables automatic expansion of the smaller array's shape to match that of the larger array without creating copies of the data.\n",
        "\n",
        "\n",
        "Alignment of Dimensions: When performing operations on arrays of different shapes, NumPy compares the shapes from the last dimension backward. If dimensions are equal or one of them is 1, broadcasting can occur.\n",
        "\n",
        "Expansion: If the shapes are compatible, NumPy \"broadcasts\" the smaller array across the larger array.\n"
      ],
      "metadata": {
        "id": "90k9l6FRV9b9"
      }
    },
    {
      "cell_type": "code",
      "source": [
        "import numpy as np\n",
        "\n",
        "# Create two large arrays\n",
        "a = np.random.rand(1000000)\n",
        "b = np.random.rand(1000000)\n",
        "\n",
        "# Vectorized addition\n",
        "c = a + b  # This adds the two arrays element-wise\n",
        "\n",
        "# Traditional loop (less efficient)\n",
        "c_loop = np.empty_like(a)\n",
        "for i in range(len(a)):\n",
        "    c_loop[i] = a[i] + b[i]\n"
      ],
      "metadata": {
        "id": "1pW1Xy3nWG4w"
      },
      "execution_count": null,
      "outputs": []
    },
    {
      "cell_type": "code",
      "source": [
        "# Create a 1D array and a 2D array\n",
        "a = np.array([10, 20, 30])        # Shape (3,)\n",
        "b = np.array([[100], [200], [300]])  # Shape (3, 1)\n",
        "\n",
        "# Broadcasting adds the 1D array to each column of the 2D array\n",
        "result = a + b\n",
        "\n",
        "print(\"Array a:\\n\", a)\n",
        "print(\"Array b:\\n\", b)\n",
        "print(\"Result of broadcasting:\\n\", result)\n"
      ],
      "metadata": {
        "colab": {
          "base_uri": "https://localhost:8080/"
        },
        "id": "0_yGzfzQT0YP",
        "outputId": "d02feec1-36e5-433e-9332-364336a8735d"
      },
      "execution_count": null,
      "outputs": [
        {
          "output_type": "stream",
          "name": "stdout",
          "text": [
            "Array a:\n",
            " [10 20 30]\n",
            "Array b:\n",
            " [[100]\n",
            " [200]\n",
            " [300]]\n",
            "Result of broadcasting:\n",
            " [[110 120 130]\n",
            " [210 220 230]\n",
            " [310 320 330]]\n"
          ]
        }
      ]
    },
    {
      "cell_type": "markdown",
      "source": [],
      "metadata": {
        "id": "Oa7TxCZaZy1O"
      }
    },
    {
      "cell_type": "markdown",
      "source": [],
      "metadata": {
        "id": "dGNkJpBoZzUl"
      }
    },
    {
      "cell_type": "markdown",
      "source": [],
      "metadata": {
        "id": "aHp-33plZzxK"
      }
    },
    {
      "cell_type": "markdown",
      "source": [],
      "metadata": {
        "id": "FCoHWctoZ0Kf"
      }
    },
    {
      "cell_type": "markdown",
      "source": [
        "                                                    \n",
        "                                                    **Practical Questions:**\n",
        "\n",
        "---\n",
        "\n"
      ],
      "metadata": {
        "id": "9rkc_3FJZ-2E"
      }
    },
    {
      "cell_type": "markdown",
      "source": [
        "1. Create a 3x3 NumPy array with random integers between 1 and 100. Then, interchange its rows and columns."
      ],
      "metadata": {
        "id": "Ir-EHAMCaP_i"
      }
    },
    {
      "cell_type": "code",
      "source": [
        "import numpy as np\n",
        "\n",
        "# Create a 3x3 array with random integers between 1 and 100\n",
        "array = np.random.randint(1, 101, size=(3, 3))\n",
        "\n",
        "# Print the original array\n",
        "print(\"Original Array:\\n\", array)\n",
        "\n",
        "# Interchange rows and columns (transpose the array)\n",
        "transposed_array = array.T\n",
        "\n",
        "# Print the transposed array\n",
        "print(\"Transposed Array:\\n\", transposed_array)\n"
      ],
      "metadata": {
        "colab": {
          "base_uri": "https://localhost:8080/"
        },
        "id": "5h7KjmsfaULy",
        "outputId": "877e4613-665e-48e1-8c1a-2b494bff9e03"
      },
      "execution_count": null,
      "outputs": [
        {
          "output_type": "stream",
          "name": "stdout",
          "text": [
            "Original Array:\n",
            " [[74 66 77]\n",
            " [86 68 96]\n",
            " [19 57 43]]\n",
            "Transposed Array:\n",
            " [[74 86 19]\n",
            " [66 68 57]\n",
            " [77 96 43]]\n"
          ]
        }
      ]
    },
    {
      "cell_type": "markdown",
      "source": [
        "2. Generate a 1D NumPy array with 10 elements. Reshape it into a 2x5 array, then into a 5x2 array"
      ],
      "metadata": {
        "id": "rjsYgNOvbSNa"
      }
    },
    {
      "cell_type": "code",
      "source": [
        "import numpy as np\n",
        "\n",
        "# Generate a 1D NumPy array with 10 elements\n",
        "array_1d = np.arange(10)  # This creates an array with values [0, 1, 2, ..., 9]\n",
        "\n",
        "# Print the original 1D array\n",
        "print(\"Original 1D Array:\\n\", array_1d)\n",
        "\n",
        "# Reshape the 1D array into a 2x5 array\n",
        "array_2x5 = array_1d.reshape(2, 5)\n",
        "print(\"\\nReshaped to 2x5 Array:\\n\", array_2x5)\n",
        "\n",
        "# Reshape the 1D array into a 5x2 array\n",
        "array_5x2 = array_1d.reshape(5, 2)\n",
        "print(\"\\nReshaped to 5x2 Array:\\n\", array_5x2)\n"
      ],
      "metadata": {
        "colab": {
          "base_uri": "https://localhost:8080/"
        },
        "id": "rPnEd5lFbWQH",
        "outputId": "17485756-bcd2-4cea-96bc-eda6f0ee8cdc"
      },
      "execution_count": null,
      "outputs": [
        {
          "output_type": "stream",
          "name": "stdout",
          "text": [
            "Original 1D Array:\n",
            " [0 1 2 3 4 5 6 7 8 9]\n",
            "\n",
            "Reshaped to 2x5 Array:\n",
            " [[0 1 2 3 4]\n",
            " [5 6 7 8 9]]\n",
            "\n",
            "Reshaped to 5x2 Array:\n",
            " [[0 1]\n",
            " [2 3]\n",
            " [4 5]\n",
            " [6 7]\n",
            " [8 9]]\n"
          ]
        }
      ]
    },
    {
      "cell_type": "markdown",
      "source": [
        "QUES 3. Create a 4x4 NumPy array with random float values. Add a border of zeros around it, resulting in a 6x6 array."
      ],
      "metadata": {
        "id": "Slw_hVs4ORGL"
      }
    },
    {
      "cell_type": "code",
      "source": [
        "import numpy as np\n",
        "\n",
        "# Create a 4x4 array with random float values\n",
        "array_4x4 = np.random.rand(4, 4)\n",
        "\n",
        "# Add a border of zeros around it\n",
        "array_6x6 = np.pad(array_4x4, pad_width=1, mode='constant', constant_values=0)\n",
        "\n",
        "print(\"4x4 Array:\")\n",
        "print(array_4x4)\n",
        "print(\"\\n6x6 Array with border of zeros:\")\n",
        "print(array_6x6)\n"
      ],
      "metadata": {
        "colab": {
          "base_uri": "https://localhost:8080/"
        },
        "id": "tEr6nzDFS3lp",
        "outputId": "095cac87-0c5e-4bdc-ad1f-ccedf83a2da9"
      },
      "execution_count": 2,
      "outputs": [
        {
          "output_type": "stream",
          "name": "stdout",
          "text": [
            "4x4 Array:\n",
            "[[0.11690286 0.47181873 0.14567717 0.12075625]\n",
            " [0.65713634 0.15210343 0.98292236 0.14132544]\n",
            " [0.42125629 0.97497161 0.74884726 0.77926795]\n",
            " [0.98356362 0.85718844 0.55602223 0.62095756]]\n",
            "\n",
            "6x6 Array with border of zeros:\n",
            "[[0.         0.         0.         0.         0.         0.        ]\n",
            " [0.         0.11690286 0.47181873 0.14567717 0.12075625 0.        ]\n",
            " [0.         0.65713634 0.15210343 0.98292236 0.14132544 0.        ]\n",
            " [0.         0.42125629 0.97497161 0.74884726 0.77926795 0.        ]\n",
            " [0.         0.98356362 0.85718844 0.55602223 0.62095756 0.        ]\n",
            " [0.         0.         0.         0.         0.         0.        ]]\n"
          ]
        }
      ]
    },
    {
      "cell_type": "markdown",
      "source": [
        "QUES 4: Using NumPy, create an array of integers from 10 to 60 with a step of 5."
      ],
      "metadata": {
        "id": "dMNMZn9VTCrW"
      }
    },
    {
      "cell_type": "code",
      "source": [
        "import numpy as np\n",
        "\n",
        "# Create an array of integers from 10 to 60 with a step of 5\n",
        "array = np.arange(10, 61, 5)\n",
        "\n",
        "print(array)\n"
      ],
      "metadata": {
        "colab": {
          "base_uri": "https://localhost:8080/"
        },
        "id": "Ufvcb-UbTuU2",
        "outputId": "f5adf90d-c41f-402a-ff80-55d75388e1e1"
      },
      "execution_count": 3,
      "outputs": [
        {
          "output_type": "stream",
          "name": "stdout",
          "text": [
            "[10 15 20 25 30 35 40 45 50 55 60]\n"
          ]
        }
      ]
    },
    {
      "cell_type": "markdown",
      "source": [
        "QUES 5 :Create a NumPy array of strings ['python', 'numpy', 'pandas']. Apply different case transformations (uppercase, lowercase, title case, etc.) to each element.\n",
        "\n"
      ],
      "metadata": {
        "id": "nUm0W5B1XmHV"
      }
    },
    {
      "cell_type": "code",
      "source": [
        "import numpy as np\n",
        "\n",
        "# Create a NumPy array of strings\n",
        "array = np.array(['python', 'numpy', 'pandas'])\n",
        "\n",
        "# Apply different case transformations\n",
        "uppercase_array = np.char.upper(array)\n",
        "lowercase_array = np.char.lower(array)\n",
        "titlecase_array = np.char.title(array)\n",
        "capitalize_array = np.char.capitalize(array)\n",
        "\n",
        "# Print the results\n",
        "print(\"Original Array:\")\n",
        "print(array)\n",
        "print(\"\\nUppercase Array:\")\n",
        "print(uppercase_array)\n",
        "print(\"\\nLowercase Array:\")\n",
        "print(lowercase_array)\n",
        "print(\"\\nTitle Case Array:\")\n",
        "print(titlecase_array)\n",
        "print(\"\\nCapitalized Array:\")\n",
        "print(capitalize_array)\n"
      ],
      "metadata": {
        "colab": {
          "base_uri": "https://localhost:8080/"
        },
        "id": "_VlIh2YaX7fU",
        "outputId": "2d02a61d-e68b-4570-a1b1-90b205f58287"
      },
      "execution_count": 4,
      "outputs": [
        {
          "output_type": "stream",
          "name": "stdout",
          "text": [
            "Original Array:\n",
            "['python' 'numpy' 'pandas']\n",
            "\n",
            "Uppercase Array:\n",
            "['PYTHON' 'NUMPY' 'PANDAS']\n",
            "\n",
            "Lowercase Array:\n",
            "['python' 'numpy' 'pandas']\n",
            "\n",
            "Title Case Array:\n",
            "['Python' 'Numpy' 'Pandas']\n",
            "\n",
            "Capitalized Array:\n",
            "['Python' 'Numpy' 'Pandas']\n"
          ]
        }
      ]
    },
    {
      "cell_type": "markdown",
      "source": [
        "QUES6. Generate a NumPy array of words. Insert a space between each character of every word in the array,\n"
      ],
      "metadata": {
        "id": "4oDYxXY4YBPt"
      }
    },
    {
      "cell_type": "code",
      "source": [
        "import numpy as np\n",
        "\n",
        "# Create a NumPy array of words\n",
        "words_array = np.array(['hello', 'physicswallah', 'data analytics ', 'batch'])\n",
        "\n",
        "# Insert a space between each character of every word\n",
        "spaced_words_array = np.char.join(' ', words_array)\n",
        "\n",
        "# Print the results\n",
        "print(\"Original Array:\")\n",
        "print(words_array)\n",
        "print(\"\\nArray with spaces between characters:\")\n",
        "print(spaced_words_array)\n"
      ],
      "metadata": {
        "colab": {
          "base_uri": "https://localhost:8080/"
        },
        "id": "iA0l_9hIY7uw",
        "outputId": "8f168ac8-db0e-429e-9fdf-bd20f681f7dd"
      },
      "execution_count": 5,
      "outputs": [
        {
          "output_type": "stream",
          "name": "stdout",
          "text": [
            "Original Array:\n",
            "['hello' 'physicswallah' 'data analytics ' 'batch']\n",
            "\n",
            "Array with spaces between characters:\n",
            "['h e l l o' 'p h y s i c s w a l l a h' 'd a t a   a n a l y t i c s  '\n",
            " 'b a t c h']\n"
          ]
        }
      ]
    },
    {
      "cell_type": "markdown",
      "source": [
        "QUES 7. Create two 2D NumPy arrays and perform element-wise addition, subtraction, multiplication, and division."
      ],
      "metadata": {
        "id": "O2dtztkYZKtU"
      }
    },
    {
      "cell_type": "code",
      "source": [
        "import numpy as np\n",
        "\n",
        "# Create two 2D NumPy arrays\n",
        "array1 = np.array([[4, 2, 7],\n",
        "                    [3, 5, 9]])\n",
        "\n",
        "array2 = np.array([[7, 8, 9],\n",
        "                    [10, 11, 12]])\n",
        "\n",
        "# Perform element-wise operations\n",
        "addition = array1 + array2\n",
        "subtraction = array1 - array2\n",
        "multiplication = array1 * array2\n",
        "division = array1 / array2\n",
        "\n",
        "# Print the results\n",
        "print(\"Array 1:\")\n",
        "print(array1)\n",
        "\n",
        "print(\"\\nArray 2:\")\n",
        "print(array2)\n",
        "\n",
        "print(\"\\nElement-wise Addition:\")\n",
        "print(addition)\n",
        "\n",
        "print(\"\\nElement-wise Subtraction:\")\n",
        "print(subtraction)\n",
        "\n",
        "print(\"\\nElement-wise Multiplication:\")\n",
        "print(multiplication)\n",
        "\n",
        "print(\"\\nElement-wise Division:\")\n",
        "print(division)\n"
      ],
      "metadata": {
        "colab": {
          "base_uri": "https://localhost:8080/"
        },
        "id": "IdjpWwWMZUeA",
        "outputId": "233a8af7-34fd-41f1-bfbc-f353fc192968"
      },
      "execution_count": 7,
      "outputs": [
        {
          "output_type": "stream",
          "name": "stdout",
          "text": [
            "Array 1:\n",
            "[[4 2 7]\n",
            " [3 5 9]]\n",
            "\n",
            "Array 2:\n",
            "[[ 7  8  9]\n",
            " [10 11 12]]\n",
            "\n",
            "Element-wise Addition:\n",
            "[[11 10 16]\n",
            " [13 16 21]]\n",
            "\n",
            "Element-wise Subtraction:\n",
            "[[-3 -6 -2]\n",
            " [-7 -6 -3]]\n",
            "\n",
            "Element-wise Multiplication:\n",
            "[[ 28  16  63]\n",
            " [ 30  55 108]]\n",
            "\n",
            "Element-wise Division:\n",
            "[[0.57142857 0.25       0.77777778]\n",
            " [0.3        0.45454545 0.75      ]]\n"
          ]
        }
      ]
    },
    {
      "cell_type": "markdown",
      "source": [
        "QUES 8: Use NumPy to create a 5x5 identity matrix, then extract its diagonal elements.\n"
      ],
      "metadata": {
        "id": "JkNUGrBNakdh"
      }
    },
    {
      "cell_type": "code",
      "source": [
        "import numpy as np\n",
        "\n",
        "# Create a 5x5 identity matrix\n",
        "identity_matrix = np.eye(5)\n",
        "\n",
        "# Extract the diagonal elements\n",
        "diagonal_elements = np.diagonal(identity_matrix)\n",
        "\n",
        "# Print the results\n",
        "print(\"5x5 Identity Matrix:\")\n",
        "print(identity_matrix)\n",
        "\n",
        "print(\"\\nDiagonal Elements:\")\n",
        "print(diagonal_elements)\n"
      ],
      "metadata": {
        "colab": {
          "base_uri": "https://localhost:8080/"
        },
        "id": "MBNlxEtHa9C0",
        "outputId": "c706d939-289a-42ba-d488-a380a6f2ea18"
      },
      "execution_count": 8,
      "outputs": [
        {
          "output_type": "stream",
          "name": "stdout",
          "text": [
            "5x5 Identity Matrix:\n",
            "[[1. 0. 0. 0. 0.]\n",
            " [0. 1. 0. 0. 0.]\n",
            " [0. 0. 1. 0. 0.]\n",
            " [0. 0. 0. 1. 0.]\n",
            " [0. 0. 0. 0. 1.]]\n",
            "\n",
            "Diagonal Elements:\n",
            "[1. 1. 1. 1. 1.]\n"
          ]
        }
      ]
    },
    {
      "cell_type": "markdown",
      "source": [
        "QUES 9 : Generate a NumPy array of 100 random integers between 0 and 1000. Find and display all prime numbers in this array."
      ],
      "metadata": {
        "id": "_JwoVbHCbA5E"
      }
    },
    {
      "cell_type": "code",
      "source": [
        "import numpy as np\n",
        "\n",
        "# Generate an array of 100 random integers between 0 and 1000\n",
        "random_integers = np.random.randint(0, 1001, size=100)\n",
        "\n",
        "# Function to check if a number is prime\n",
        "def is_prime(n):\n",
        "    if n <= 1:\n",
        "        return False\n",
        "    for i in range(2, int(n**0.5) + 1):\n",
        "        if n % i == 0:\n",
        "            return False\n",
        "    return True\n",
        "\n",
        "# Find all prime numbers in the array\n",
        "prime_numbers = [num for num in random_integers if is_prime(num)]\n",
        "\n",
        "# Print the results\n",
        "print(\"Random Integers Array:\")\n",
        "print(random_integers)\n",
        "\n",
        "print(\"\\nPrime Numbers:\")\n",
        "print(prime_numbers)\n"
      ],
      "metadata": {
        "colab": {
          "base_uri": "https://localhost:8080/"
        },
        "id": "9fW3E3i8bHoa",
        "outputId": "0fa147e0-4ec9-49af-99f1-1c4c4f4a067e"
      },
      "execution_count": 9,
      "outputs": [
        {
          "output_type": "stream",
          "name": "stdout",
          "text": [
            "Random Integers Array:\n",
            "[ 402  560  465  942  948  655  233   15  722  148  107  899  571  491\n",
            "  287  901  587  623  656  806  403  962  551  901 1000  588  795  744\n",
            "  946  765  614  942  951  929   90    1  576  592  428  219   44  895\n",
            "  174  398  623  680  237  730  367  983  613  707  316  701  172  738\n",
            "  189  936   33  163  733   74  589  288  335  683   36  343   25  205\n",
            "  974   94  172   37  861  552  614  305  154  745  204  488  604   97\n",
            "  883  829  172  972  939  374  164  972  701   60  802  528  947  614\n",
            "  928  805]\n",
            "\n",
            "Prime Numbers:\n",
            "[233, 107, 571, 491, 587, 929, 367, 983, 613, 701, 163, 733, 683, 37, 97, 883, 829, 701, 947]\n"
          ]
        }
      ]
    },
    {
      "cell_type": "markdown",
      "source": [
        "QUES 10. Create a NumPy array representing daily temperatures for a month. Calculate and display the weekly averages."
      ],
      "metadata": {
        "id": "eCUfIaDK5p8k"
      }
    },
    {
      "cell_type": "code",
      "source": [
        "import numpy as np\n",
        "\n",
        "# Create a NumPy array representing daily temperatures for 30 days\n",
        "# For this example, we'll generate random temperatures between 15 and 35 degrees Celsius\n",
        "daily_temperatures = np.random.uniform(15, 35, size=30)\n",
        "\n",
        "# Calculate the weekly averages\n",
        "# Reshape the array to (4, 7) for 4 weeks (28 days), and calculate the mean across the rows\n",
        "weekly_averages = daily_temperatures[:28].reshape(4, 7).mean(axis=1)\n",
        "\n",
        "# Print the results\n",
        "print(\"Daily Temperatures for 30 Days:\")\n",
        "print(daily_temperatures)\n",
        "\n",
        "print(\"\\nWeekly Averages:\")\n",
        "print(weekly_averages)\n"
      ],
      "metadata": {
        "colab": {
          "base_uri": "https://localhost:8080/"
        },
        "id": "6EUpcTDE6djd",
        "outputId": "6d0e269d-0a5a-491f-aee0-895bf8a85ac7"
      },
      "execution_count": 1,
      "outputs": [
        {
          "output_type": "stream",
          "name": "stdout",
          "text": [
            "Daily Temperatures for 30 Days:\n",
            "[22.40445964 17.45673358 31.51156495 20.12784283 30.55340505 25.23611055\n",
            " 26.57662894 30.27923443 15.14000831 18.34956821 31.77852382 23.82914442\n",
            " 33.38760608 32.47600956 34.17923677 21.98451132 28.2666166  31.41510726\n",
            " 31.89030953 16.74152386 15.28195302 25.81522013 33.86128883 19.54762023\n",
            " 30.55146118 34.73800603 16.2607487  23.99934536 24.27567369 23.53081187]\n",
            "\n",
            "Weekly Averages:\n",
            "[24.8381065  26.46287069 25.67989405 26.39624149]\n"
          ]
        }
      ]
    }
  ]
}